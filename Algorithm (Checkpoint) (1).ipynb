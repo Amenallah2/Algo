{
 "cells": [
  {
   "cell_type": "code",
   "execution_count": 22,
   "id": "a8f749be",
   "metadata": {},
   "outputs": [
    {
     "name": "stdout",
     "output_type": "stream",
     "text": [
      "Resultat dans A =  False\n",
      "Resultat dans B=  True\n"
     ]
    }
   ],
   "source": [
    "#Write a Python program for binary search.\n",
    "#Test Data :\n",
    "#binary_search([1,2,3,5,8], 6) -> False\n",
    "#binary_search([1,2,3,5,8], 5) -> True\n",
    "\n",
    "def binary_search(List, target):\n",
    "    left = 0\n",
    "    right = len(List) - 1\n",
    "    while left <= right:\n",
    "        \n",
    "        mid = (left + right) // 2\n",
    "        if target == List[mid]:\n",
    "            return True\n",
    "        elif target < List[mid]:\n",
    "            right =  mid - 1\n",
    "        else:\n",
    "            left = mid + 1\n",
    "    return False\n",
    "    \n",
    "#binary_search([1,2,3,5,8], 6) -> False\n",
    "#binary_search([1,2,3,5,8], 5) -> True\n",
    "A=[1,2,3,5,8]\n",
    "B=[1,2,3,5,8]\n",
    "k1=int(6)\n",
    "k2=int(5)\n",
    "print('Resultat dans A = ', binary_search(A,k1))\n",
    "\n",
    "print('Resultat dans B= ', binary_search(B,k2))\n"
   ]
  },
  {
   "cell_type": "code",
   "execution_count": 13,
   "id": "519c081b",
   "metadata": {},
   "outputs": [
    {
     "name": "stdout",
     "output_type": "stream",
     "text": [
      "81\n"
     ]
    }
   ],
   "source": [
    "#Test Data : \n",
    "#(power(3,4) -> 81\n",
    "\n",
    "\n",
    "\n",
    "def power(N, P):\n",
    "  \n",
    "    # if power is 0 then return 1\n",
    "    if P == 0:\n",
    "        return 1\n",
    "      \n",
    "    # if power is 1 then number is\n",
    "    # returned\n",
    "    elif P == 1:\n",
    "        return N\n",
    "      \n",
    "    else:\n",
    "        return (N*power(N, P-1))\n",
    "  \n",
    "N = 3\n",
    "P = 4\n",
    "  \n",
    "print(power(N, P))"
   ]
  },
  {
   "cell_type": "code",
   "execution_count": 9,
   "id": "5a40789e",
   "metadata": {},
   "outputs": [
    {
     "data": {
      "text/plain": [
       "[13, 22, 29, 37, 46, 49, 52, 56, 71]"
      ]
     },
     "execution_count": 9,
     "metadata": {},
     "output_type": "execute_result"
    }
   ],
   "source": [
    "#Write a Python program to sort a list of elements using the bubble sort algorithm.\n",
    "#Sample Data: [29,13,22,37,52,49,46,71,56]\n",
    "#Expected Result: [13, 22, 29, 37, 42, 46, 49, 56, 71]\n",
    "\n",
    "\n",
    "def bubbleSort(nlist):\n",
    "    for passnum in range(len(nlist)-1,0,-1):\n",
    "        \n",
    "        for i in range(passnum):\n",
    "            \n",
    "        \n",
    "            if nlist[i]>nlist[i+1]:\n",
    "                temp = nlist[i]\n",
    "                nlist[i] = nlist[i+1]\n",
    "                nlist[i+1] = temp\n",
    "                \n",
    "            \n",
    "    return nlist\n",
    "\n",
    "nlist = [29,13,22,37,52,49,46,71,56]\n",
    "bubbleSort(nlist)"
   ]
  },
  {
   "cell_type": "code",
   "execution_count": 10,
   "id": "83ffa0e0",
   "metadata": {},
   "outputs": [
    {
     "name": "stdout",
     "output_type": "stream",
     "text": [
      "[13, 22, 29, 37, 46, 49, 52, 56, 71]\n"
     ]
    }
   ],
   "source": [
    "def mergeSort(myList):\n",
    "    if len(myList) > 1:\n",
    "        mid = len(myList) // 2\n",
    "        left = myList[:mid]\n",
    "        right = myList[mid:]\n",
    "\n",
    "        # Recursive call on each half\n",
    "        mergeSort(left)\n",
    "        mergeSort(right)\n",
    "\n",
    "        # Two iterators for traversing the two halves\n",
    "        i = 0\n",
    "        j = 0\n",
    "        \n",
    "        # Iterator for the main list\n",
    "        k = 0\n",
    "        \n",
    "        while i < len(left) and j < len(right):\n",
    "            if left[i] < right[j]:\n",
    "              # The value from the left half has been used\n",
    "              myList[k] = left[i]\n",
    "              # Move the iterator forward\n",
    "              i += 1\n",
    "            else:\n",
    "                myList[k] = right[j]\n",
    "                j += 1\n",
    "            # Move to the next slot\n",
    "            k += 1\n",
    "\n",
    "        # For all the remaining values\n",
    "        while i < len(left):\n",
    "            myList[k] = left[i]\n",
    "            i += 1\n",
    "            k += 1\n",
    "\n",
    "        while j < len(right):\n",
    "            myList[k]=right[j]\n",
    "            j += 1\n",
    "            k += 1\n",
    "\n",
    "myList = [29,13,22,37,52,49,46,71,56]\n",
    "mergeSort(myList)\n",
    "print(myList)"
   ]
  },
  {
   "cell_type": "code",
   "execution_count": 11,
   "id": "448222cf",
   "metadata": {},
   "outputs": [
    {
     "name": "stdout",
     "output_type": "stream",
     "text": [
      "[13, 22, 29, 37, 46, 49, 52, 56, 71]\n"
     ]
    }
   ],
   "source": [
    "def partition(array, start, end):\n",
    "    pivot = array[start]\n",
    "    low = start + 1\n",
    "    high = end\n",
    "    while True:\n",
    "        while low <= high and array[high] >= pivot:\n",
    "            high = high - 1\n",
    "\n",
    "        \n",
    "        while low <= high and array[low] <= pivot:\n",
    "            low = low + 1\n",
    "        if low <= high:\n",
    "            array[low], array[high] = array[high], array[low]\n",
    "        else:\n",
    "            break\n",
    "\n",
    "    array[start], array[high] = array[high], array[start]\n",
    "\n",
    "    return high\n",
    "def quick_sort(array, start, end):\n",
    "    if start >= end:\n",
    "        return\n",
    "\n",
    "    p = partition(array, start, end)\n",
    "    quick_sort(array, start, p-1)\n",
    "    quick_sort(array, p+1, end)\n",
    "    \n",
    "array = [29,13,22,37,52,49,46,71,56]\n",
    "quick_sort(array, 0, len(array) - 1)\n",
    "print(array)"
   ]
  },
  {
   "cell_type": "code",
   "execution_count": null,
   "id": "8fa43494",
   "metadata": {},
   "outputs": [],
   "source": []
  }
 ],
 "metadata": {
  "kernelspec": {
   "display_name": "Python 3",
   "language": "python",
   "name": "python3"
  },
  "language_info": {
   "codemirror_mode": {
    "name": "ipython",
    "version": 3
   },
   "file_extension": ".py",
   "mimetype": "text/x-python",
   "name": "python",
   "nbconvert_exporter": "python",
   "pygments_lexer": "ipython3",
   "version": "3.8.8"
  }
 },
 "nbformat": 4,
 "nbformat_minor": 5
}
